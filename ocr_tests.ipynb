{
  "cells": [
    {
      "cell_type": "code",
      "execution_count": 1,
      "metadata": {},
      "outputs": [
        {
          "name": "stdout",
          "output_type": "stream",
          "text": [
            "[PhysicalDevice(name='/physical_device:GPU:0', device_type='GPU')]\n"
          ]
        }
      ],
      "source": [
        "import tensorflow as tf\n",
        "gpus = tf.config.list_physical_devices('GPU')\n",
        "print(gpus)"
      ]
    },
    {
      "cell_type": "code",
      "execution_count": 2,
      "metadata": {},
      "outputs": [
        {
          "name": "stdout",
          "output_type": "stream",
          "text": [
            "Package                      Version\n",
            "---------------------------- -----------\n",
            "absl-py                      2.1.0\n",
            "addict                       2.4.0\n",
            "aliyun-python-sdk-core       2.15.1\n",
            "aliyun-python-sdk-kms        2.16.2\n",
            "asttokens                    2.4.1\n",
            "astunparse                   1.6.3\n",
            "asynctest                    0.13.0\n",
            "attrs                        23.2.0\n",
            "autocommand                  2.2.2\n",
            "backports.tarfile            1.1.0\n",
            "boto3                        1.34.85\n",
            "botocore                     1.34.85\n",
            "Brotli                       1.0.9\n",
            "cachetools                   5.3.3\n",
            "certifi                      2024.2.2\n",
            "cffi                         1.16.0\n",
            "chardet                      5.2.0\n",
            "charset-normalizer           2.0.4\n",
            "click                        8.1.7\n",
            "codecov                      2.1.13\n",
            "colorama                     0.4.6\n",
            "comm                         0.2.2\n",
            "contourpy                    1.2.1\n",
            "coverage                     7.4.4\n",
            "crcmod                       1.7\n",
            "cryptography                 42.0.5\n",
            "cycler                       0.12.1\n",
            "debugpy                      1.8.1\n",
            "decorator                    5.1.1\n",
            "exceptiongroup               1.2.0\n",
            "executing                    2.0.1\n",
            "filelock                     3.13.1\n",
            "flake8                       7.0.0\n",
            "flatbuffers                  24.3.25\n",
            "fonttools                    4.51.0\n",
            "fsspec                       2024.3.1\n",
            "gast                         0.4.0\n",
            "gmpy2                        2.1.2\n",
            "google-auth                  2.29.0\n",
            "google-auth-oauthlib         0.4.6\n",
            "google-pasta                 0.2.0\n",
            "grpcio                       1.62.1\n",
            "h5py                         3.11.0\n",
            "idna                         3.4\n",
            "imageio                      2.34.0\n",
            "imgaug                       0.4.0\n",
            "importlib_metadata           7.1.0\n",
            "inflect                      7.2.0\n",
            "iniconfig                    2.0.0\n",
            "interrogate                  1.7.0\n",
            "ipykernel                    6.29.3\n",
            "ipython                      8.22.2\n",
            "isort                        5.13.2\n",
            "jaraco.classes               3.4.0\n",
            "jaraco.collections           5.0.1\n",
            "jaraco.context               5.3.0\n",
            "jaraco.functools             4.0.0\n",
            "jaraco.structures            2.2.0\n",
            "jaraco.text                  3.12.0\n",
            "jaraco.ui                    2.3.0\n",
            "jaraco.windows               5.8.0\n",
            "jedi                         0.19.1\n",
            "Jinja2                       3.1.3\n",
            "jmespath                     0.10.0\n",
            "jupyter_client               8.6.1\n",
            "jupyter_core                 5.7.2\n",
            "keras                        2.10.0\n",
            "Keras-Preprocessing          1.1.2\n",
            "kiwisolver                   1.4.5\n",
            "kwarray                      0.6.18\n",
            "lanms_neo                    1.0.2\n",
            "lazy_loader                  0.4\n",
            "libclang                     18.1.1\n",
            "lmdb                         1.4.1\n",
            "Markdown                     3.6\n",
            "markdown-it-py               3.0.0\n",
            "MarkupSafe                   2.1.3\n",
            "matplotlib                   3.8.4\n",
            "matplotlib-inline            0.1.7\n",
            "mccabe                       0.7.0\n",
            "mdurl                        0.1.2\n",
            "mkl-fft                      1.3.8\n",
            "mkl-random                   1.2.4\n",
            "mkl-service                  2.4.0\n",
            "mmcv                         2.0.1\n",
            "mmdet                        3.1.0\n",
            "mmengine                     0.10.3\n",
            "mmocr                        1.0.1\n",
            "model-index                  0.1.11\n",
            "more-itertools               10.2.0\n",
            "mpmath                       1.3.0\n",
            "nest_asyncio                 1.6.0\n",
            "networkx                     3.1\n",
            "numpy                        1.26.4\n",
            "oauthlib                     3.2.2\n",
            "opencv-python                4.9.0.80\n",
            "opendatalab                  0.0.10\n",
            "openmim                      0.3.9\n",
            "openxlab                     0.0.38\n",
            "opt-einsum                   3.3.0\n",
            "ordered-set                  4.1.0\n",
            "oss2                         2.17.0\n",
            "packaging                    24.0\n",
            "pandas                       2.2.2\n",
            "parameterized                0.9.0\n",
            "parso                        0.8.4\n",
            "path                         16.14.0\n",
            "pickleshare                  0.7.5\n",
            "pillow                       10.2.0\n",
            "pip                          23.3.1\n",
            "platformdirs                 4.2.0\n",
            "pluggy                       1.4.0\n",
            "prompt-toolkit               3.0.42\n",
            "protobuf                     3.19.6\n",
            "psutil                       5.9.8\n",
            "pure-eval                    0.2.2\n",
            "py                           1.11.0\n",
            "pyasn1                       0.6.0\n",
            "pyasn1_modules               0.4.0\n",
            "pyclipper                    1.3.0.post5\n",
            "pycocotools                  2.0.7\n",
            "pycodestyle                  2.11.1\n",
            "pycparser                    2.22\n",
            "pycryptodome                 3.20.0\n",
            "pyflakes                     3.2.0\n",
            "Pygments                     2.17.2\n",
            "pyparsing                    3.1.2\n",
            "PySocks                      1.7.1\n",
            "pytest                       8.1.1\n",
            "pytest-cov                   5.0.0\n",
            "pytest-runner                6.0.1\n",
            "python-dateutil              2.9.0\n",
            "pytz                         2023.4\n",
            "pywin32                      306\n",
            "PyYAML                       6.0.1\n",
            "pyzmq                        26.0.0\n",
            "rapidfuzz                    3.8.1\n",
            "regex                        2024.4.16\n",
            "requests                     2.28.2\n",
            "requests-oauthlib            2.0.0\n",
            "rich                         13.4.2\n",
            "rsa                          4.9\n",
            "s3transfer                   0.10.1\n",
            "scikit-image                 0.23.1\n",
            "scipy                        1.13.0\n",
            "setuptools                   60.2.0\n",
            "shapely                      2.0.4\n",
            "six                          1.16.0\n",
            "stack-data                   0.6.2\n",
            "sympy                        1.12\n",
            "tabulate                     0.9.0\n",
            "tensorboard                  2.10.1\n",
            "tensorboard-data-server      0.6.1\n",
            "tensorboard-plugin-wit       1.8.1\n",
            "tensorflow                   2.10.0\n",
            "tensorflow-estimator         2.10.0\n",
            "tensorflow-io-gcs-filesystem 0.31.0\n",
            "termcolor                    2.4.0\n",
            "terminaltables               3.1.10\n",
            "tifffile                     2024.2.12\n",
            "tomli                        2.0.1\n",
            "torch                        2.0.0\n",
            "torchvision                  0.15.1\n",
            "tornado                      6.4\n",
            "tqdm                         4.65.2\n",
            "traitlets                    5.14.2\n",
            "typeguard                    4.2.1\n",
            "typing_extensions            4.11.0\n",
            "tzdata                       2024.1\n",
            "ubelt                        1.3.5\n",
            "urllib3                      1.26.18\n",
            "wcwidth                      0.2.13\n",
            "Werkzeug                     3.0.2\n",
            "wheel                        0.41.2\n",
            "win-inet-pton                1.1.0\n",
            "wrapt                        1.16.0\n",
            "xdoctest                     1.1.3\n",
            "yapf                         0.40.2\n",
            "zipp                         3.17.0\n"
          ]
        }
      ],
      "source": [
        "!pip list"
      ]
    },
    {
      "cell_type": "code",
      "execution_count": 3,
      "metadata": {},
      "outputs": [
        {
          "name": "stdout",
          "output_type": "stream",
          "text": [
            "Requirement already satisfied: torch==2.0.0 in c:\\users\\helen\\anaconda3\\envs\\engr2900\\lib\\site-packages (2.0.0)\n",
            "Requirement already satisfied: torchvision==0.15.1 in c:\\users\\helen\\anaconda3\\envs\\engr2900\\lib\\site-packages (0.15.1)\n",
            "Requirement already satisfied: filelock in c:\\users\\helen\\anaconda3\\envs\\engr2900\\lib\\site-packages (from torch==2.0.0) (3.13.1)\n",
            "Requirement already satisfied: typing-extensions in c:\\users\\helen\\anaconda3\\envs\\engr2900\\lib\\site-packages (from torch==2.0.0) (4.11.0)\n",
            "Requirement already satisfied: sympy in c:\\users\\helen\\anaconda3\\envs\\engr2900\\lib\\site-packages (from torch==2.0.0) (1.12)\n",
            "Requirement already satisfied: networkx in c:\\users\\helen\\anaconda3\\envs\\engr2900\\lib\\site-packages (from torch==2.0.0) (3.1)\n",
            "Requirement already satisfied: jinja2 in c:\\users\\helen\\anaconda3\\envs\\engr2900\\lib\\site-packages (from torch==2.0.0) (3.1.3)\n",
            "Requirement already satisfied: numpy in c:\\users\\helen\\anaconda3\\envs\\engr2900\\lib\\site-packages (from torchvision==0.15.1) (1.26.4)\n",
            "Requirement already satisfied: requests in c:\\users\\helen\\anaconda3\\envs\\engr2900\\lib\\site-packages (from torchvision==0.15.1) (2.28.2)\n",
            "Requirement already satisfied: pillow!=8.3.*,>=5.3.0 in c:\\users\\helen\\anaconda3\\envs\\engr2900\\lib\\site-packages (from torchvision==0.15.1) (10.2.0)\n",
            "Requirement already satisfied: MarkupSafe>=2.0 in c:\\users\\helen\\anaconda3\\envs\\engr2900\\lib\\site-packages (from jinja2->torch==2.0.0) (2.1.3)\n",
            "Requirement already satisfied: charset-normalizer<4,>=2 in c:\\users\\helen\\anaconda3\\envs\\engr2900\\lib\\site-packages (from requests->torchvision==0.15.1) (2.0.4)\n",
            "Requirement already satisfied: idna<4,>=2.5 in c:\\users\\helen\\anaconda3\\envs\\engr2900\\lib\\site-packages (from requests->torchvision==0.15.1) (3.4)\n",
            "Requirement already satisfied: urllib3<1.27,>=1.21.1 in c:\\users\\helen\\anaconda3\\envs\\engr2900\\lib\\site-packages (from requests->torchvision==0.15.1) (1.26.18)\n",
            "Requirement already satisfied: certifi>=2017.4.17 in c:\\users\\helen\\anaconda3\\envs\\engr2900\\lib\\site-packages (from requests->torchvision==0.15.1) (2024.2.2)\n",
            "Requirement already satisfied: mpmath>=0.19 in c:\\users\\helen\\anaconda3\\envs\\engr2900\\lib\\site-packages (from sympy->torch==2.0.0) (1.3.0)\n",
            "Requirement already satisfied: openmim in c:\\users\\helen\\anaconda3\\envs\\engr2900\\lib\\site-packages (0.3.9)\n",
            "Requirement already satisfied: Click in c:\\users\\helen\\anaconda3\\envs\\engr2900\\lib\\site-packages (from openmim) (8.1.7)\n",
            "Requirement already satisfied: colorama in c:\\users\\helen\\anaconda3\\envs\\engr2900\\lib\\site-packages (from openmim) (0.4.6)\n",
            "Requirement already satisfied: model-index in c:\\users\\helen\\anaconda3\\envs\\engr2900\\lib\\site-packages (from openmim) (0.1.11)\n",
            "Requirement already satisfied: opendatalab in c:\\users\\helen\\anaconda3\\envs\\engr2900\\lib\\site-packages (from openmim) (0.0.10)\n",
            "Requirement already satisfied: pandas in c:\\users\\helen\\anaconda3\\envs\\engr2900\\lib\\site-packages (from openmim) (2.2.2)\n",
            "Requirement already satisfied: pip>=19.3 in c:\\users\\helen\\anaconda3\\envs\\engr2900\\lib\\site-packages (from openmim) (23.3.1)\n",
            "Requirement already satisfied: requests in c:\\users\\helen\\anaconda3\\envs\\engr2900\\lib\\site-packages (from openmim) (2.28.2)\n",
            "Requirement already satisfied: rich in c:\\users\\helen\\anaconda3\\envs\\engr2900\\lib\\site-packages (from openmim) (13.4.2)\n",
            "Requirement already satisfied: tabulate in c:\\users\\helen\\anaconda3\\envs\\engr2900\\lib\\site-packages (from openmim) (0.9.0)\n",
            "Requirement already satisfied: pyyaml in c:\\users\\helen\\anaconda3\\envs\\engr2900\\lib\\site-packages (from model-index->openmim) (6.0.1)\n",
            "Requirement already satisfied: markdown in c:\\users\\helen\\anaconda3\\envs\\engr2900\\lib\\site-packages (from model-index->openmim) (3.6)\n",
            "Requirement already satisfied: ordered-set in c:\\users\\helen\\anaconda3\\envs\\engr2900\\lib\\site-packages (from model-index->openmim) (4.1.0)\n",
            "Requirement already satisfied: pycryptodome in c:\\users\\helen\\anaconda3\\envs\\engr2900\\lib\\site-packages (from opendatalab->openmim) (3.20.0)\n",
            "Requirement already satisfied: tqdm in c:\\users\\helen\\anaconda3\\envs\\engr2900\\lib\\site-packages (from opendatalab->openmim) (4.65.2)\n",
            "Requirement already satisfied: openxlab in c:\\users\\helen\\anaconda3\\envs\\engr2900\\lib\\site-packages (from opendatalab->openmim) (0.0.38)\n",
            "Requirement already satisfied: pywin32 in c:\\users\\helen\\anaconda3\\envs\\engr2900\\lib\\site-packages (from opendatalab->openmim) (306)\n",
            "Requirement already satisfied: charset-normalizer<4,>=2 in c:\\users\\helen\\anaconda3\\envs\\engr2900\\lib\\site-packages (from requests->openmim) (2.0.4)\n",
            "Requirement already satisfied: idna<4,>=2.5 in c:\\users\\helen\\anaconda3\\envs\\engr2900\\lib\\site-packages (from requests->openmim) (3.4)\n",
            "Requirement already satisfied: urllib3<1.27,>=1.21.1 in c:\\users\\helen\\anaconda3\\envs\\engr2900\\lib\\site-packages (from requests->openmim) (1.26.18)\n",
            "Requirement already satisfied: certifi>=2017.4.17 in c:\\users\\helen\\anaconda3\\envs\\engr2900\\lib\\site-packages (from requests->openmim) (2024.2.2)\n",
            "Requirement already satisfied: numpy>=1.22.4 in c:\\users\\helen\\anaconda3\\envs\\engr2900\\lib\\site-packages (from pandas->openmim) (1.26.4)\n",
            "Requirement already satisfied: python-dateutil>=2.8.2 in c:\\users\\helen\\anaconda3\\envs\\engr2900\\lib\\site-packages (from pandas->openmim) (2.9.0)\n",
            "Requirement already satisfied: pytz>=2020.1 in c:\\users\\helen\\anaconda3\\envs\\engr2900\\lib\\site-packages (from pandas->openmim) (2023.4)\n",
            "Requirement already satisfied: tzdata>=2022.7 in c:\\users\\helen\\anaconda3\\envs\\engr2900\\lib\\site-packages (from pandas->openmim) (2024.1)\n",
            "Requirement already satisfied: markdown-it-py>=2.2.0 in c:\\users\\helen\\anaconda3\\envs\\engr2900\\lib\\site-packages (from rich->openmim) (3.0.0)\n",
            "Requirement already satisfied: pygments<3.0.0,>=2.13.0 in c:\\users\\helen\\anaconda3\\envs\\engr2900\\lib\\site-packages (from rich->openmim) (2.17.2)\n",
            "Requirement already satisfied: mdurl~=0.1 in c:\\users\\helen\\anaconda3\\envs\\engr2900\\lib\\site-packages (from markdown-it-py>=2.2.0->rich->openmim) (0.1.2)\n",
            "Requirement already satisfied: six>=1.5 in c:\\users\\helen\\anaconda3\\envs\\engr2900\\lib\\site-packages (from python-dateutil>=2.8.2->pandas->openmim) (1.16.0)\n",
            "Requirement already satisfied: oss2~=2.17.0 in c:\\users\\helen\\anaconda3\\envs\\engr2900\\lib\\site-packages (from openxlab->opendatalab->openmim) (2.17.0)\n",
            "Requirement already satisfied: setuptools~=60.2.0 in c:\\users\\helen\\anaconda3\\envs\\engr2900\\lib\\site-packages (from openxlab->opendatalab->openmim) (60.2.0)\n",
            "Requirement already satisfied: crcmod>=1.7 in c:\\users\\helen\\anaconda3\\envs\\engr2900\\lib\\site-packages (from oss2~=2.17.0->openxlab->opendatalab->openmim) (1.7)\n",
            "Requirement already satisfied: aliyun-python-sdk-kms>=2.4.1 in c:\\users\\helen\\anaconda3\\envs\\engr2900\\lib\\site-packages (from oss2~=2.17.0->openxlab->opendatalab->openmim) (2.16.2)\n",
            "Requirement already satisfied: aliyun-python-sdk-core>=2.13.12 in c:\\users\\helen\\anaconda3\\envs\\engr2900\\lib\\site-packages (from oss2~=2.17.0->openxlab->opendatalab->openmim) (2.15.1)\n",
            "Requirement already satisfied: jmespath<1.0.0,>=0.9.3 in c:\\users\\helen\\anaconda3\\envs\\engr2900\\lib\\site-packages (from aliyun-python-sdk-core>=2.13.12->oss2~=2.17.0->openxlab->opendatalab->openmim) (0.10.0)\n",
            "Requirement already satisfied: cryptography>=2.6.0 in c:\\users\\helen\\anaconda3\\envs\\engr2900\\lib\\site-packages (from aliyun-python-sdk-core>=2.13.12->oss2~=2.17.0->openxlab->opendatalab->openmim) (42.0.5)\n",
            "Requirement already satisfied: cffi>=1.12 in c:\\users\\helen\\anaconda3\\envs\\engr2900\\lib\\site-packages (from cryptography>=2.6.0->aliyun-python-sdk-core>=2.13.12->oss2~=2.17.0->openxlab->opendatalab->openmim) (1.16.0)\n",
            "Requirement already satisfied: pycparser in c:\\users\\helen\\anaconda3\\envs\\engr2900\\lib\\site-packages (from cffi>=1.12->cryptography>=2.6.0->aliyun-python-sdk-core>=2.13.12->oss2~=2.17.0->openxlab->opendatalab->openmim) (2.22)\n",
            "Looking in links: https://download.openmmlab.com/mmcv/dist/cpu/torch2.0.0/index.html\n",
            "Requirement already satisfied: mmengine<1.1.0,>=0.7.1 in c:\\users\\helen\\anaconda3\\envs\\engr2900\\lib\\site-packages (0.10.3)\n",
            "Requirement already satisfied: addict in c:\\users\\helen\\anaconda3\\envs\\engr2900\\lib\\site-packages (from mmengine<1.1.0,>=0.7.1) (2.4.0)\n",
            "Requirement already satisfied: matplotlib in c:\\users\\helen\\anaconda3\\envs\\engr2900\\lib\\site-packages (from mmengine<1.1.0,>=0.7.1) (3.8.4)\n",
            "Requirement already satisfied: numpy in c:\\users\\helen\\anaconda3\\envs\\engr2900\\lib\\site-packages (from mmengine<1.1.0,>=0.7.1) (1.26.4)\n",
            "Requirement already satisfied: pyyaml in c:\\users\\helen\\anaconda3\\envs\\engr2900\\lib\\site-packages (from mmengine<1.1.0,>=0.7.1) (6.0.1)\n",
            "Requirement already satisfied: rich in c:\\users\\helen\\anaconda3\\envs\\engr2900\\lib\\site-packages (from mmengine<1.1.0,>=0.7.1) (13.4.2)\n",
            "Requirement already satisfied: termcolor in c:\\users\\helen\\anaconda3\\envs\\engr2900\\lib\\site-packages (from mmengine<1.1.0,>=0.7.1) (2.4.0)\n",
            "Requirement already satisfied: yapf in c:\\users\\helen\\anaconda3\\envs\\engr2900\\lib\\site-packages (from mmengine<1.1.0,>=0.7.1) (0.40.2)\n",
            "Requirement already satisfied: opencv-python>=3 in c:\\users\\helen\\anaconda3\\envs\\engr2900\\lib\\site-packages (from mmengine<1.1.0,>=0.7.1) (4.9.0.80)\n",
            "Requirement already satisfied: regex in c:\\users\\helen\\anaconda3\\envs\\engr2900\\lib\\site-packages (from mmengine<1.1.0,>=0.7.1) (2024.4.16)\n",
            "Requirement already satisfied: contourpy>=1.0.1 in c:\\users\\helen\\anaconda3\\envs\\engr2900\\lib\\site-packages (from matplotlib->mmengine<1.1.0,>=0.7.1) (1.2.1)\n",
            "Requirement already satisfied: cycler>=0.10 in c:\\users\\helen\\anaconda3\\envs\\engr2900\\lib\\site-packages (from matplotlib->mmengine<1.1.0,>=0.7.1) (0.12.1)\n",
            "Requirement already satisfied: fonttools>=4.22.0 in c:\\users\\helen\\anaconda3\\envs\\engr2900\\lib\\site-packages (from matplotlib->mmengine<1.1.0,>=0.7.1) (4.51.0)\n",
            "Requirement already satisfied: kiwisolver>=1.3.1 in c:\\users\\helen\\anaconda3\\envs\\engr2900\\lib\\site-packages (from matplotlib->mmengine<1.1.0,>=0.7.1) (1.4.5)\n",
            "Requirement already satisfied: packaging>=20.0 in c:\\users\\helen\\anaconda3\\envs\\engr2900\\lib\\site-packages (from matplotlib->mmengine<1.1.0,>=0.7.1) (24.0)\n",
            "Requirement already satisfied: pillow>=8 in c:\\users\\helen\\anaconda3\\envs\\engr2900\\lib\\site-packages (from matplotlib->mmengine<1.1.0,>=0.7.1) (10.2.0)\n",
            "Requirement already satisfied: pyparsing>=2.3.1 in c:\\users\\helen\\anaconda3\\envs\\engr2900\\lib\\site-packages (from matplotlib->mmengine<1.1.0,>=0.7.1) (3.1.2)\n",
            "Requirement already satisfied: python-dateutil>=2.7 in c:\\users\\helen\\anaconda3\\envs\\engr2900\\lib\\site-packages (from matplotlib->mmengine<1.1.0,>=0.7.1) (2.9.0)\n",
            "Requirement already satisfied: markdown-it-py>=2.2.0 in c:\\users\\helen\\anaconda3\\envs\\engr2900\\lib\\site-packages (from rich->mmengine<1.1.0,>=0.7.1) (3.0.0)\n",
            "Requirement already satisfied: pygments<3.0.0,>=2.13.0 in c:\\users\\helen\\anaconda3\\envs\\engr2900\\lib\\site-packages (from rich->mmengine<1.1.0,>=0.7.1) (2.17.2)\n",
            "Requirement already satisfied: importlib-metadata>=6.6.0 in c:\\users\\helen\\anaconda3\\envs\\engr2900\\lib\\site-packages (from yapf->mmengine<1.1.0,>=0.7.1) (7.1.0)\n",
            "Requirement already satisfied: platformdirs>=3.5.1 in c:\\users\\helen\\anaconda3\\envs\\engr2900\\lib\\site-packages (from yapf->mmengine<1.1.0,>=0.7.1) (4.2.0)\n",
            "Requirement already satisfied: tomli>=2.0.1 in c:\\users\\helen\\anaconda3\\envs\\engr2900\\lib\\site-packages (from yapf->mmengine<1.1.0,>=0.7.1) (2.0.1)\n",
            "Requirement already satisfied: zipp>=0.5 in c:\\users\\helen\\anaconda3\\envs\\engr2900\\lib\\site-packages (from importlib-metadata>=6.6.0->yapf->mmengine<1.1.0,>=0.7.1) (3.17.0)\n",
            "Requirement already satisfied: mdurl~=0.1 in c:\\users\\helen\\anaconda3\\envs\\engr2900\\lib\\site-packages (from markdown-it-py>=2.2.0->rich->mmengine<1.1.0,>=0.7.1) (0.1.2)\n",
            "Requirement already satisfied: six>=1.5 in c:\\users\\helen\\anaconda3\\envs\\engr2900\\lib\\site-packages (from python-dateutil>=2.7->matplotlib->mmengine<1.1.0,>=0.7.1) (1.16.0)\n",
            "Looking in links: https://download.openmmlab.com/mmcv/dist/cpu/torch2.0.0/index.html\n",
            "Requirement already satisfied: mmcv<2.1.0,>=2.0.0rc4 in c:\\users\\helen\\anaconda3\\envs\\engr2900\\lib\\site-packages (2.0.1)\n",
            "Requirement already satisfied: addict in c:\\users\\helen\\anaconda3\\envs\\engr2900\\lib\\site-packages (from mmcv<2.1.0,>=2.0.0rc4) (2.4.0)\n",
            "Requirement already satisfied: mmengine>=0.3.0 in c:\\users\\helen\\anaconda3\\envs\\engr2900\\lib\\site-packages (from mmcv<2.1.0,>=2.0.0rc4) (0.10.3)\n",
            "Requirement already satisfied: numpy in c:\\users\\helen\\anaconda3\\envs\\engr2900\\lib\\site-packages (from mmcv<2.1.0,>=2.0.0rc4) (1.26.4)\n",
            "Requirement already satisfied: packaging in c:\\users\\helen\\anaconda3\\envs\\engr2900\\lib\\site-packages (from mmcv<2.1.0,>=2.0.0rc4) (24.0)\n",
            "Requirement already satisfied: Pillow in c:\\users\\helen\\anaconda3\\envs\\engr2900\\lib\\site-packages (from mmcv<2.1.0,>=2.0.0rc4) (10.2.0)\n",
            "Requirement already satisfied: pyyaml in c:\\users\\helen\\anaconda3\\envs\\engr2900\\lib\\site-packages (from mmcv<2.1.0,>=2.0.0rc4) (6.0.1)\n",
            "Requirement already satisfied: yapf in c:\\users\\helen\\anaconda3\\envs\\engr2900\\lib\\site-packages (from mmcv<2.1.0,>=2.0.0rc4) (0.40.2)\n",
            "Requirement already satisfied: opencv-python>=3 in c:\\users\\helen\\anaconda3\\envs\\engr2900\\lib\\site-packages (from mmcv<2.1.0,>=2.0.0rc4) (4.9.0.80)\n",
            "Requirement already satisfied: regex in c:\\users\\helen\\anaconda3\\envs\\engr2900\\lib\\site-packages (from mmcv<2.1.0,>=2.0.0rc4) (2024.4.16)\n",
            "Requirement already satisfied: matplotlib in c:\\users\\helen\\anaconda3\\envs\\engr2900\\lib\\site-packages (from mmengine>=0.3.0->mmcv<2.1.0,>=2.0.0rc4) (3.8.4)\n",
            "Requirement already satisfied: rich in c:\\users\\helen\\anaconda3\\envs\\engr2900\\lib\\site-packages (from mmengine>=0.3.0->mmcv<2.1.0,>=2.0.0rc4) (13.4.2)\n",
            "Requirement already satisfied: termcolor in c:\\users\\helen\\anaconda3\\envs\\engr2900\\lib\\site-packages (from mmengine>=0.3.0->mmcv<2.1.0,>=2.0.0rc4) (2.4.0)\n",
            "Requirement already satisfied: importlib-metadata>=6.6.0 in c:\\users\\helen\\anaconda3\\envs\\engr2900\\lib\\site-packages (from yapf->mmcv<2.1.0,>=2.0.0rc4) (7.1.0)\n",
            "Requirement already satisfied: platformdirs>=3.5.1 in c:\\users\\helen\\anaconda3\\envs\\engr2900\\lib\\site-packages (from yapf->mmcv<2.1.0,>=2.0.0rc4) (4.2.0)\n",
            "Requirement already satisfied: tomli>=2.0.1 in c:\\users\\helen\\anaconda3\\envs\\engr2900\\lib\\site-packages (from yapf->mmcv<2.1.0,>=2.0.0rc4) (2.0.1)\n",
            "Requirement already satisfied: zipp>=0.5 in c:\\users\\helen\\anaconda3\\envs\\engr2900\\lib\\site-packages (from importlib-metadata>=6.6.0->yapf->mmcv<2.1.0,>=2.0.0rc4) (3.17.0)\n",
            "Requirement already satisfied: contourpy>=1.0.1 in c:\\users\\helen\\anaconda3\\envs\\engr2900\\lib\\site-packages (from matplotlib->mmengine>=0.3.0->mmcv<2.1.0,>=2.0.0rc4) (1.2.1)\n",
            "Requirement already satisfied: cycler>=0.10 in c:\\users\\helen\\anaconda3\\envs\\engr2900\\lib\\site-packages (from matplotlib->mmengine>=0.3.0->mmcv<2.1.0,>=2.0.0rc4) (0.12.1)\n",
            "Requirement already satisfied: fonttools>=4.22.0 in c:\\users\\helen\\anaconda3\\envs\\engr2900\\lib\\site-packages (from matplotlib->mmengine>=0.3.0->mmcv<2.1.0,>=2.0.0rc4) (4.51.0)\n",
            "Requirement already satisfied: kiwisolver>=1.3.1 in c:\\users\\helen\\anaconda3\\envs\\engr2900\\lib\\site-packages (from matplotlib->mmengine>=0.3.0->mmcv<2.1.0,>=2.0.0rc4) (1.4.5)\n",
            "Requirement already satisfied: pyparsing>=2.3.1 in c:\\users\\helen\\anaconda3\\envs\\engr2900\\lib\\site-packages (from matplotlib->mmengine>=0.3.0->mmcv<2.1.0,>=2.0.0rc4) (3.1.2)\n",
            "Requirement already satisfied: python-dateutil>=2.7 in c:\\users\\helen\\anaconda3\\envs\\engr2900\\lib\\site-packages (from matplotlib->mmengine>=0.3.0->mmcv<2.1.0,>=2.0.0rc4) (2.9.0)\n",
            "Requirement already satisfied: markdown-it-py>=2.2.0 in c:\\users\\helen\\anaconda3\\envs\\engr2900\\lib\\site-packages (from rich->mmengine>=0.3.0->mmcv<2.1.0,>=2.0.0rc4) (3.0.0)\n",
            "Requirement already satisfied: pygments<3.0.0,>=2.13.0 in c:\\users\\helen\\anaconda3\\envs\\engr2900\\lib\\site-packages (from rich->mmengine>=0.3.0->mmcv<2.1.0,>=2.0.0rc4) (2.17.2)\n",
            "Requirement already satisfied: mdurl~=0.1 in c:\\users\\helen\\anaconda3\\envs\\engr2900\\lib\\site-packages (from markdown-it-py>=2.2.0->rich->mmengine>=0.3.0->mmcv<2.1.0,>=2.0.0rc4) (0.1.2)\n",
            "Requirement already satisfied: six>=1.5 in c:\\users\\helen\\anaconda3\\envs\\engr2900\\lib\\site-packages (from python-dateutil>=2.7->matplotlib->mmengine>=0.3.0->mmcv<2.1.0,>=2.0.0rc4) (1.16.0)\n",
            "Looking in links: https://download.openmmlab.com/mmcv/dist/cpu/torch2.0.0/index.html\n",
            "Requirement already satisfied: mmdet<3.2.0,>=3.0.0rc5 in c:\\users\\helen\\anaconda3\\envs\\engr2900\\lib\\site-packages (3.1.0)\n",
            "Requirement already satisfied: matplotlib in c:\\users\\helen\\anaconda3\\envs\\engr2900\\lib\\site-packages (from mmdet<3.2.0,>=3.0.0rc5) (3.8.4)\n",
            "Requirement already satisfied: numpy in c:\\users\\helen\\anaconda3\\envs\\engr2900\\lib\\site-packages (from mmdet<3.2.0,>=3.0.0rc5) (1.26.4)\n",
            "Requirement already satisfied: pycocotools in c:\\users\\helen\\anaconda3\\envs\\engr2900\\lib\\site-packages (from mmdet<3.2.0,>=3.0.0rc5) (2.0.7)\n",
            "Requirement already satisfied: scipy in c:\\users\\helen\\anaconda3\\envs\\engr2900\\lib\\site-packages (from mmdet<3.2.0,>=3.0.0rc5) (1.13.0)\n",
            "Requirement already satisfied: shapely in c:\\users\\helen\\anaconda3\\envs\\engr2900\\lib\\site-packages (from mmdet<3.2.0,>=3.0.0rc5) (2.0.4)\n",
            "Requirement already satisfied: six in c:\\users\\helen\\anaconda3\\envs\\engr2900\\lib\\site-packages (from mmdet<3.2.0,>=3.0.0rc5) (1.16.0)\n",
            "Requirement already satisfied: terminaltables in c:\\users\\helen\\anaconda3\\envs\\engr2900\\lib\\site-packages (from mmdet<3.2.0,>=3.0.0rc5) (3.1.10)\n",
            "Requirement already satisfied: mmcv<2.1.0,>=2.0.0rc4 in c:\\users\\helen\\anaconda3\\envs\\engr2900\\lib\\site-packages (from mmdet<3.2.0,>=3.0.0rc5) (2.0.1)\n",
            "Requirement already satisfied: mmengine<1.0.0,>=0.7.1 in c:\\users\\helen\\anaconda3\\envs\\engr2900\\lib\\site-packages (from mmdet<3.2.0,>=3.0.0rc5) (0.10.3)\n",
            "Requirement already satisfied: addict in c:\\users\\helen\\anaconda3\\envs\\engr2900\\lib\\site-packages (from mmcv<2.1.0,>=2.0.0rc4->mmdet<3.2.0,>=3.0.0rc5) (2.4.0)\n",
            "Requirement already satisfied: packaging in c:\\users\\helen\\anaconda3\\envs\\engr2900\\lib\\site-packages (from mmcv<2.1.0,>=2.0.0rc4->mmdet<3.2.0,>=3.0.0rc5) (24.0)\n",
            "Requirement already satisfied: Pillow in c:\\users\\helen\\anaconda3\\envs\\engr2900\\lib\\site-packages (from mmcv<2.1.0,>=2.0.0rc4->mmdet<3.2.0,>=3.0.0rc5) (10.2.0)\n",
            "Requirement already satisfied: pyyaml in c:\\users\\helen\\anaconda3\\envs\\engr2900\\lib\\site-packages (from mmcv<2.1.0,>=2.0.0rc4->mmdet<3.2.0,>=3.0.0rc5) (6.0.1)\n",
            "Requirement already satisfied: yapf in c:\\users\\helen\\anaconda3\\envs\\engr2900\\lib\\site-packages (from mmcv<2.1.0,>=2.0.0rc4->mmdet<3.2.0,>=3.0.0rc5) (0.40.2)\n",
            "Requirement already satisfied: opencv-python>=3 in c:\\users\\helen\\anaconda3\\envs\\engr2900\\lib\\site-packages (from mmcv<2.1.0,>=2.0.0rc4->mmdet<3.2.0,>=3.0.0rc5) (4.9.0.80)\n",
            "Requirement already satisfied: regex in c:\\users\\helen\\anaconda3\\envs\\engr2900\\lib\\site-packages (from mmcv<2.1.0,>=2.0.0rc4->mmdet<3.2.0,>=3.0.0rc5) (2024.4.16)\n",
            "Requirement already satisfied: rich in c:\\users\\helen\\anaconda3\\envs\\engr2900\\lib\\site-packages (from mmengine<1.0.0,>=0.7.1->mmdet<3.2.0,>=3.0.0rc5) (13.4.2)\n",
            "Requirement already satisfied: termcolor in c:\\users\\helen\\anaconda3\\envs\\engr2900\\lib\\site-packages (from mmengine<1.0.0,>=0.7.1->mmdet<3.2.0,>=3.0.0rc5) (2.4.0)\n",
            "Requirement already satisfied: contourpy>=1.0.1 in c:\\users\\helen\\anaconda3\\envs\\engr2900\\lib\\site-packages (from matplotlib->mmdet<3.2.0,>=3.0.0rc5) (1.2.1)\n",
            "Requirement already satisfied: cycler>=0.10 in c:\\users\\helen\\anaconda3\\envs\\engr2900\\lib\\site-packages (from matplotlib->mmdet<3.2.0,>=3.0.0rc5) (0.12.1)\n",
            "Requirement already satisfied: fonttools>=4.22.0 in c:\\users\\helen\\anaconda3\\envs\\engr2900\\lib\\site-packages (from matplotlib->mmdet<3.2.0,>=3.0.0rc5) (4.51.0)\n",
            "Requirement already satisfied: kiwisolver>=1.3.1 in c:\\users\\helen\\anaconda3\\envs\\engr2900\\lib\\site-packages (from matplotlib->mmdet<3.2.0,>=3.0.0rc5) (1.4.5)\n",
            "Requirement already satisfied: pyparsing>=2.3.1 in c:\\users\\helen\\anaconda3\\envs\\engr2900\\lib\\site-packages (from matplotlib->mmdet<3.2.0,>=3.0.0rc5) (3.1.2)\n",
            "Requirement already satisfied: python-dateutil>=2.7 in c:\\users\\helen\\anaconda3\\envs\\engr2900\\lib\\site-packages (from matplotlib->mmdet<3.2.0,>=3.0.0rc5) (2.9.0)\n",
            "Requirement already satisfied: markdown-it-py>=2.2.0 in c:\\users\\helen\\anaconda3\\envs\\engr2900\\lib\\site-packages (from rich->mmengine<1.0.0,>=0.7.1->mmdet<3.2.0,>=3.0.0rc5) (3.0.0)\n",
            "Requirement already satisfied: pygments<3.0.0,>=2.13.0 in c:\\users\\helen\\anaconda3\\envs\\engr2900\\lib\\site-packages (from rich->mmengine<1.0.0,>=0.7.1->mmdet<3.2.0,>=3.0.0rc5) (2.17.2)\n",
            "Requirement already satisfied: importlib-metadata>=6.6.0 in c:\\users\\helen\\anaconda3\\envs\\engr2900\\lib\\site-packages (from yapf->mmcv<2.1.0,>=2.0.0rc4->mmdet<3.2.0,>=3.0.0rc5) (7.1.0)\n",
            "Requirement already satisfied: platformdirs>=3.5.1 in c:\\users\\helen\\anaconda3\\envs\\engr2900\\lib\\site-packages (from yapf->mmcv<2.1.0,>=2.0.0rc4->mmdet<3.2.0,>=3.0.0rc5) (4.2.0)\n",
            "Requirement already satisfied: tomli>=2.0.1 in c:\\users\\helen\\anaconda3\\envs\\engr2900\\lib\\site-packages (from yapf->mmcv<2.1.0,>=2.0.0rc4->mmdet<3.2.0,>=3.0.0rc5) (2.0.1)\n",
            "Requirement already satisfied: zipp>=0.5 in c:\\users\\helen\\anaconda3\\envs\\engr2900\\lib\\site-packages (from importlib-metadata>=6.6.0->yapf->mmcv<2.1.0,>=2.0.0rc4->mmdet<3.2.0,>=3.0.0rc5) (3.17.0)\n",
            "Requirement already satisfied: mdurl~=0.1 in c:\\users\\helen\\anaconda3\\envs\\engr2900\\lib\\site-packages (from markdown-it-py>=2.2.0->rich->mmengine<1.0.0,>=0.7.1->mmdet<3.2.0,>=3.0.0rc5) (0.1.2)\n",
            "Looking in links: https://download.openmmlab.com/mmcv/dist/cpu/torch2.0.0/index.html\n",
            "Requirement already satisfied: mmocr in c:\\users\\helen\\anaconda3\\envs\\engr2900\\lib\\site-packages (1.0.1)\n",
            "Requirement already satisfied: imgaug in c:\\users\\helen\\anaconda3\\envs\\engr2900\\lib\\site-packages (from mmocr) (0.4.0)\n",
            "Requirement already satisfied: lmdb in c:\\users\\helen\\anaconda3\\envs\\engr2900\\lib\\site-packages (from mmocr) (1.4.1)\n",
            "Requirement already satisfied: matplotlib in c:\\users\\helen\\anaconda3\\envs\\engr2900\\lib\\site-packages (from mmocr) (3.8.4)\n",
            "Requirement already satisfied: numpy in c:\\users\\helen\\anaconda3\\envs\\engr2900\\lib\\site-packages (from mmocr) (1.26.4)\n",
            "Requirement already satisfied: opencv-python!=4.5.5.*,>=4.2.0.32 in c:\\users\\helen\\anaconda3\\envs\\engr2900\\lib\\site-packages (from mmocr) (4.9.0.80)\n",
            "Requirement already satisfied: pyclipper in c:\\users\\helen\\anaconda3\\envs\\engr2900\\lib\\site-packages (from mmocr) (1.3.0.post5)\n",
            "Requirement already satisfied: pycocotools in c:\\users\\helen\\anaconda3\\envs\\engr2900\\lib\\site-packages (from mmocr) (2.0.7)\n",
            "Requirement already satisfied: rapidfuzz>=2.0.0 in c:\\users\\helen\\anaconda3\\envs\\engr2900\\lib\\site-packages (from mmocr) (3.8.1)\n",
            "Requirement already satisfied: scikit-image in c:\\users\\helen\\anaconda3\\envs\\engr2900\\lib\\site-packages (from mmocr) (0.23.1)\n",
            "Requirement already satisfied: mmcv<2.2.0,>=2.0.0rc4 in c:\\users\\helen\\anaconda3\\envs\\engr2900\\lib\\site-packages (from mmocr) (2.0.1)\n",
            "Requirement already satisfied: mmdet<3.2.0,>=3.0.0rc5 in c:\\users\\helen\\anaconda3\\envs\\engr2900\\lib\\site-packages (from mmocr) (3.1.0)\n",
            "Requirement already satisfied: mmengine<1.1.0,>=0.7.0 in c:\\users\\helen\\anaconda3\\envs\\engr2900\\lib\\site-packages (from mmocr) (0.10.3)\n",
            "Requirement already satisfied: addict in c:\\users\\helen\\anaconda3\\envs\\engr2900\\lib\\site-packages (from mmcv<2.2.0,>=2.0.0rc4->mmocr) (2.4.0)\n",
            "Requirement already satisfied: packaging in c:\\users\\helen\\anaconda3\\envs\\engr2900\\lib\\site-packages (from mmcv<2.2.0,>=2.0.0rc4->mmocr) (24.0)\n",
            "Requirement already satisfied: Pillow in c:\\users\\helen\\anaconda3\\envs\\engr2900\\lib\\site-packages (from mmcv<2.2.0,>=2.0.0rc4->mmocr) (10.2.0)\n",
            "Requirement already satisfied: pyyaml in c:\\users\\helen\\anaconda3\\envs\\engr2900\\lib\\site-packages (from mmcv<2.2.0,>=2.0.0rc4->mmocr) (6.0.1)\n",
            "Requirement already satisfied: yapf in c:\\users\\helen\\anaconda3\\envs\\engr2900\\lib\\site-packages (from mmcv<2.2.0,>=2.0.0rc4->mmocr) (0.40.2)\n",
            "Requirement already satisfied: regex in c:\\users\\helen\\anaconda3\\envs\\engr2900\\lib\\site-packages (from mmcv<2.2.0,>=2.0.0rc4->mmocr) (2024.4.16)\n",
            "Requirement already satisfied: scipy in c:\\users\\helen\\anaconda3\\envs\\engr2900\\lib\\site-packages (from mmdet<3.2.0,>=3.0.0rc5->mmocr) (1.13.0)\n",
            "Requirement already satisfied: shapely in c:\\users\\helen\\anaconda3\\envs\\engr2900\\lib\\site-packages (from mmdet<3.2.0,>=3.0.0rc5->mmocr) (2.0.4)\n",
            "Requirement already satisfied: six in c:\\users\\helen\\anaconda3\\envs\\engr2900\\lib\\site-packages (from mmdet<3.2.0,>=3.0.0rc5->mmocr) (1.16.0)\n",
            "Requirement already satisfied: terminaltables in c:\\users\\helen\\anaconda3\\envs\\engr2900\\lib\\site-packages (from mmdet<3.2.0,>=3.0.0rc5->mmocr) (3.1.10)\n",
            "Requirement already satisfied: rich in c:\\users\\helen\\anaconda3\\envs\\engr2900\\lib\\site-packages (from mmengine<1.1.0,>=0.7.0->mmocr) (13.4.2)\n",
            "Requirement already satisfied: termcolor in c:\\users\\helen\\anaconda3\\envs\\engr2900\\lib\\site-packages (from mmengine<1.1.0,>=0.7.0->mmocr) (2.4.0)\n",
            "Requirement already satisfied: imageio in c:\\users\\helen\\anaconda3\\envs\\engr2900\\lib\\site-packages (from imgaug->mmocr) (2.34.0)\n",
            "Requirement already satisfied: networkx>=2.8 in c:\\users\\helen\\anaconda3\\envs\\engr2900\\lib\\site-packages (from scikit-image->mmocr) (3.1)\n",
            "Requirement already satisfied: tifffile>=2022.8.12 in c:\\users\\helen\\anaconda3\\envs\\engr2900\\lib\\site-packages (from scikit-image->mmocr) (2024.2.12)\n",
            "Requirement already satisfied: lazy-loader>=0.4 in c:\\users\\helen\\anaconda3\\envs\\engr2900\\lib\\site-packages (from scikit-image->mmocr) (0.4)\n",
            "Requirement already satisfied: contourpy>=1.0.1 in c:\\users\\helen\\anaconda3\\envs\\engr2900\\lib\\site-packages (from matplotlib->mmocr) (1.2.1)\n",
            "Requirement already satisfied: cycler>=0.10 in c:\\users\\helen\\anaconda3\\envs\\engr2900\\lib\\site-packages (from matplotlib->mmocr) (0.12.1)\n",
            "Requirement already satisfied: fonttools>=4.22.0 in c:\\users\\helen\\anaconda3\\envs\\engr2900\\lib\\site-packages (from matplotlib->mmocr) (4.51.0)\n",
            "Requirement already satisfied: kiwisolver>=1.3.1 in c:\\users\\helen\\anaconda3\\envs\\engr2900\\lib\\site-packages (from matplotlib->mmocr) (1.4.5)\n",
            "Requirement already satisfied: pyparsing>=2.3.1 in c:\\users\\helen\\anaconda3\\envs\\engr2900\\lib\\site-packages (from matplotlib->mmocr) (3.1.2)\n",
            "Requirement already satisfied: python-dateutil>=2.7 in c:\\users\\helen\\anaconda3\\envs\\engr2900\\lib\\site-packages (from matplotlib->mmocr) (2.9.0)\n",
            "Requirement already satisfied: markdown-it-py>=2.2.0 in c:\\users\\helen\\anaconda3\\envs\\engr2900\\lib\\site-packages (from rich->mmengine<1.1.0,>=0.7.0->mmocr) (3.0.0)\n",
            "Requirement already satisfied: pygments<3.0.0,>=2.13.0 in c:\\users\\helen\\anaconda3\\envs\\engr2900\\lib\\site-packages (from rich->mmengine<1.1.0,>=0.7.0->mmocr) (2.17.2)\n",
            "Requirement already satisfied: importlib-metadata>=6.6.0 in c:\\users\\helen\\anaconda3\\envs\\engr2900\\lib\\site-packages (from yapf->mmcv<2.2.0,>=2.0.0rc4->mmocr) (7.1.0)\n",
            "Requirement already satisfied: platformdirs>=3.5.1 in c:\\users\\helen\\anaconda3\\envs\\engr2900\\lib\\site-packages (from yapf->mmcv<2.2.0,>=2.0.0rc4->mmocr) (4.2.0)\n",
            "Requirement already satisfied: tomli>=2.0.1 in c:\\users\\helen\\anaconda3\\envs\\engr2900\\lib\\site-packages (from yapf->mmcv<2.2.0,>=2.0.0rc4->mmocr) (2.0.1)\n",
            "Requirement already satisfied: zipp>=0.5 in c:\\users\\helen\\anaconda3\\envs\\engr2900\\lib\\site-packages (from importlib-metadata>=6.6.0->yapf->mmcv<2.2.0,>=2.0.0rc4->mmocr) (3.17.0)\n",
            "Requirement already satisfied: mdurl~=0.1 in c:\\users\\helen\\anaconda3\\envs\\engr2900\\lib\\site-packages (from markdown-it-py>=2.2.0->rich->mmengine<1.1.0,>=0.7.0->mmocr) (0.1.2)\n"
          ]
        }
      ],
      "source": [
        "!pip install torch==2.0.0 torchvision==0.15.1\n",
        "!pip install -U openmim\n",
        "!mim install \"mmengine>=0.7.1,<1.1.0\"\n",
        "!mim install \"mmcv>=2.0.0rc4,<2.1.0\"\n",
        "!mim install \"mmdet>=3.0.0rc5,<3.2.0\"\n",
        "!mim install mmocr"
      ]
    },
    {
      "cell_type": "markdown",
      "metadata": {},
      "source": [
        "MMOCR"
      ]
    },
    {
      "cell_type": "code",
      "execution_count": 18,
      "metadata": {
        "colab": {
          "base_uri": "https://localhost:8080/",
          "height": 383
        },
        "id": "k3VuMqzrQLpT",
        "outputId": "2c26b6b2-5cef-4b40-f393-cba294d3d9b4"
      },
      "outputs": [
        {
          "name": "stdout",
          "output_type": "stream",
          "text": [
            "Loads checkpoint by http backend from path: https://download.openmmlab.com/mmocr/textdet/dbnet/dbnet_resnet50-oclip_1200e_icdar2015/dbnet_resnet50-oclip_1200e_icdar2015_20221102_115917-bde8c87a.pth\n",
            "04/19 14:45:34 - mmengine - \u001b[5m\u001b[4m\u001b[33mWARNING\u001b[0m - Failed to search registry with scope \"mmocr\" in the \"function\" registry tree. As a workaround, the current \"function\" registry in \"mmengine\" is used to build instance. This may cause unexpected failure when running the built modules. Please check whether \"mmocr\" is a correct scope, or whether the registry is initialized.\n",
            "Loads checkpoint by http backend from path: https://download.openmmlab.com/mmocr/textrecog/abinet/abinet_20e_st-an_mj/abinet_20e_st-an_mj_20221005_012617-ead8c139.pth\n"
          ]
        },
        {
          "name": "stderr",
          "output_type": "stream",
          "text": [
            "c:\\Users\\helen\\anaconda3\\envs\\engr2900\\lib\\site-packages\\mmengine\\visualization\\visualizer.py:196: UserWarning: Failed to add <class 'mmengine.visualization.vis_backend.LocalVisBackend'>, please provide the `save_dir` argument.\n",
            "  warnings.warn(f'Failed to add {vis_backend.__class__}, '\n",
            "c:\\Users\\helen\\anaconda3\\envs\\engr2900\\lib\\site-packages\\mmocr\\models\\textrecog\\module_losses\\ce_module_loss.py:101: UserWarning: padding does not exist in the dictionary\n",
            "  warnings.warn(\n",
            "c:\\Users\\helen\\anaconda3\\envs\\engr2900\\lib\\site-packages\\mmocr\\models\\textrecog\\postprocessors\\base.py:60: UserWarning: padding does not exist in the dictionary\n",
            "  warnings.warn(\n"
          ]
        },
        {
          "name": "stdout",
          "output_type": "stream",
          "text": [
            "The model and loaded state dict do not match exactly\n",
            "\n",
            "unexpected key in source state_dict: data_preprocessor.mean, data_preprocessor.std\n",
            "\n"
          ]
        }
      ],
      "source": [
        "from mmocr.apis import MMOCRInferencer\n",
        "# Load models into memory\n",
        "ocr = MMOCRInferencer(det='DBNet', rec='ABINet')"
      ]
    },
    {
      "cell_type": "code",
      "execution_count": 28,
      "metadata": {},
      "outputs": [
        {
          "data": {
            "text/html": [
              "<pre style=\"white-space:pre;overflow-x:auto;line-height:normal;font-family:Menlo,'DejaVu Sans Mono',consolas,'Courier New',monospace\">c:\\Users\\helen\\anaconda3\\envs\\engr2900\\lib\\site-packages\\rich\\live.py:231: UserWarning: install \"ipywidgets\" for \n",
              "Jupyter support\n",
              "  warnings.warn('install \"ipywidgets\" for Jupyter support')\n",
              "</pre>\n"
            ],
            "text/plain": [
              "c:\\Users\\helen\\anaconda3\\envs\\engr2900\\lib\\site-packages\\rich\\live.py:231: UserWarning: install \"ipywidgets\" for \n",
              "Jupyter support\n",
              "  warnings.warn('install \"ipywidgets\" for Jupyter support')\n"
            ]
          },
          "metadata": {},
          "output_type": "display_data"
        },
        {
          "data": {
            "text/html": [
              "<pre style=\"white-space:pre;overflow-x:auto;line-height:normal;font-family:Menlo,'DejaVu Sans Mono',consolas,'Courier New',monospace\">\n",
              "</pre>\n"
            ],
            "text/plain": [
              "\n"
            ]
          },
          "metadata": {},
          "output_type": "display_data"
        },
        {
          "data": {
            "text/html": [
              "<pre style=\"white-space:pre;overflow-x:auto;line-height:normal;font-family:Menlo,'DejaVu Sans Mono',consolas,'Courier New',monospace\">c:\\Users\\helen\\anaconda3\\envs\\engr2900\\lib\\site-packages\\mmcv\\cnn\\bricks\\transformer.py:819: UserWarning: Use same \n",
              "attn_mask in all attentions in BaseTransformerLayer \n",
              "  warnings.warn(f'Use same attn_mask in all attentions in '\n",
              "</pre>\n"
            ],
            "text/plain": [
              "c:\\Users\\helen\\anaconda3\\envs\\engr2900\\lib\\site-packages\\mmcv\\cnn\\bricks\\transformer.py:819: UserWarning: Use same \n",
              "attn_mask in all attentions in BaseTransformerLayer \n",
              "  warnings.warn(f'Use same attn_mask in all attentions in '\n"
            ]
          },
          "metadata": {},
          "output_type": "display_data"
        },
        {
          "data": {
            "text/html": [
              "<pre style=\"white-space:pre;overflow-x:auto;line-height:normal;font-family:Menlo,'DejaVu Sans Mono',consolas,'Courier New',monospace\">c:\\Users\\helen\\anaconda3\\envs\\engr2900\\lib\\site-packages\\torch\\nn\\functional.py:4999: UserWarning: Support for \n",
              "mismatched key_padding_mask and attn_mask is deprecated. Use same type for both instead.\n",
              "  warnings.warn(\n",
              "</pre>\n"
            ],
            "text/plain": [
              "c:\\Users\\helen\\anaconda3\\envs\\engr2900\\lib\\site-packages\\torch\\nn\\functional.py:4999: UserWarning: Support for \n",
              "mismatched key_padding_mask and attn_mask is deprecated. Use same type for both instead.\n",
              "  warnings.warn(\n"
            ]
          },
          "metadata": {},
          "output_type": "display_data"
        },
        {
          "data": {
            "text/html": [
              "<pre style=\"white-space:pre;overflow-x:auto;line-height:normal;font-family:Menlo,'DejaVu Sans Mono',consolas,'Courier New',monospace\">\n",
              "</pre>\n"
            ],
            "text/plain": [
              "\n"
            ]
          },
          "metadata": {},
          "output_type": "display_data"
        },
        {
          "data": {
            "text/html": [
              "<pre style=\"white-space:pre;overflow-x:auto;line-height:normal;font-family:Menlo,'DejaVu Sans Mono',consolas,'Courier New',monospace\"></pre>\n"
            ],
            "text/plain": []
          },
          "metadata": {},
          "output_type": "display_data"
        },
        {
          "data": {
            "text/html": [
              "<pre style=\"white-space:pre;overflow-x:auto;line-height:normal;font-family:Menlo,'DejaVu Sans Mono',consolas,'Courier New',monospace\">\n",
              "</pre>\n"
            ],
            "text/plain": [
              "\n"
            ]
          },
          "metadata": {},
          "output_type": "display_data"
        },
        {
          "name": "stdout",
          "output_type": "stream",
          "text": [
            "a t some be doing shtthing good businesses because all should is a i i i i a a a i far i a a good i a od oo ve\n"
          ]
        }
      ],
      "source": [
        "# Perform inference\n",
        "result = ocr('med_diary.jpg', show=True)\n",
        "\n",
        "recognized_texts = [item['rec_texts'] for item in result['predictions']]\n",
        "flat_list_of_texts = [text for sublist in recognized_texts for text in sublist]\n",
        "mmocr_med = ' '.join(flat_list_of_texts)\n",
        "print(mmocr_med)"
      ]
    },
    {
      "cell_type": "code",
      "execution_count": 19,
      "metadata": {},
      "outputs": [
        {
          "data": {
            "text/html": [
              "<pre style=\"white-space:pre;overflow-x:auto;line-height:normal;font-family:Menlo,'DejaVu Sans Mono',consolas,'Courier New',monospace\">c:\\Users\\helen\\anaconda3\\envs\\engr2900\\lib\\site-packages\\rich\\live.py:231: UserWarning: install \"ipywidgets\" for \n",
              "Jupyter support\n",
              "  warnings.warn('install \"ipywidgets\" for Jupyter support')\n",
              "</pre>\n"
            ],
            "text/plain": [
              "c:\\Users\\helen\\anaconda3\\envs\\engr2900\\lib\\site-packages\\rich\\live.py:231: UserWarning: install \"ipywidgets\" for \n",
              "Jupyter support\n",
              "  warnings.warn('install \"ipywidgets\" for Jupyter support')\n"
            ]
          },
          "metadata": {},
          "output_type": "display_data"
        },
        {
          "data": {
            "text/html": [
              "<pre style=\"white-space:pre;overflow-x:auto;line-height:normal;font-family:Menlo,'DejaVu Sans Mono',consolas,'Courier New',monospace\">\n",
              "</pre>\n"
            ],
            "text/plain": [
              "\n"
            ]
          },
          "metadata": {},
          "output_type": "display_data"
        },
        {
          "data": {
            "text/html": [
              "<pre style=\"white-space:pre;overflow-x:auto;line-height:normal;font-family:Menlo,'DejaVu Sans Mono',consolas,'Courier New',monospace\">c:\\Users\\helen\\anaconda3\\envs\\engr2900\\lib\\site-packages\\mmcv\\cnn\\bricks\\transformer.py:819: UserWarning: Use same \n",
              "attn_mask in all attentions in BaseTransformerLayer \n",
              "  warnings.warn(f'Use same attn_mask in all attentions in '\n",
              "</pre>\n"
            ],
            "text/plain": [
              "c:\\Users\\helen\\anaconda3\\envs\\engr2900\\lib\\site-packages\\mmcv\\cnn\\bricks\\transformer.py:819: UserWarning: Use same \n",
              "attn_mask in all attentions in BaseTransformerLayer \n",
              "  warnings.warn(f'Use same attn_mask in all attentions in '\n"
            ]
          },
          "metadata": {},
          "output_type": "display_data"
        },
        {
          "data": {
            "text/html": [
              "<pre style=\"white-space:pre;overflow-x:auto;line-height:normal;font-family:Menlo,'DejaVu Sans Mono',consolas,'Courier New',monospace\">c:\\Users\\helen\\anaconda3\\envs\\engr2900\\lib\\site-packages\\torch\\nn\\functional.py:4999: UserWarning: Support for \n",
              "mismatched key_padding_mask and attn_mask is deprecated. Use same type for both instead.\n",
              "  warnings.warn(\n",
              "</pre>\n"
            ],
            "text/plain": [
              "c:\\Users\\helen\\anaconda3\\envs\\engr2900\\lib\\site-packages\\torch\\nn\\functional.py:4999: UserWarning: Support for \n",
              "mismatched key_padding_mask and attn_mask is deprecated. Use same type for both instead.\n",
              "  warnings.warn(\n"
            ]
          },
          "metadata": {},
          "output_type": "display_data"
        },
        {
          "data": {
            "text/html": [
              "<pre style=\"white-space:pre;overflow-x:auto;line-height:normal;font-family:Menlo,'DejaVu Sans Mono',consolas,'Courier New',monospace\">\n",
              "</pre>\n"
            ],
            "text/plain": [
              "\n"
            ]
          },
          "metadata": {},
          "output_type": "display_data"
        },
        {
          "data": {
            "text/html": [
              "<pre style=\"white-space:pre;overflow-x:auto;line-height:normal;font-family:Menlo,'DejaVu Sans Mono',consolas,'Courier New',monospace\"></pre>\n"
            ],
            "text/plain": []
          },
          "metadata": {},
          "output_type": "display_data"
        },
        {
          "data": {
            "text/html": [
              "<pre style=\"white-space:pre;overflow-x:auto;line-height:normal;font-family:Menlo,'DejaVu Sans Mono',consolas,'Courier New',monospace\">\n",
              "</pre>\n"
            ],
            "text/plain": [
              "\n"
            ]
          },
          "metadata": {},
          "output_type": "display_data"
        },
        {
          "name": "stdout",
          "output_type": "stream",
          "text": [
            "offer discovered everything they had to in the worlds was it bookss when found that escape could places better high school was when me helps to imagine the people and movie before the read it book weirdos who loves watch to the movies for of one those more books seen the thattd i movie to started then the read so more even and than thrilling was scary try book book the so movie a give figured the the id king loved stephen shining the called suggested grandma my then read book as much was not working still but while a summers over the little read would reading stopped 5 pleasure for reading waste to time have didnt so thatthooudnt much so school high classes english in my apr lot read to had\n"
          ]
        }
      ],
      "source": [
        "result = ocr('hard_diary.jpg', show=True)\n",
        "\n",
        "recognized_texts = [item['rec_texts'] for item in result['predictions']]\n",
        "flat_list_of_texts = [text for sublist in recognized_texts for text in sublist]\n",
        "mmocr_hard = ' '.join(flat_list_of_texts)\n",
        "print(mmocr_hard)"
      ]
    },
    {
      "cell_type": "markdown",
      "metadata": {},
      "source": [
        "Tesseract"
      ]
    },
    {
      "cell_type": "code",
      "execution_count": 15,
      "metadata": {},
      "outputs": [
        {
          "name": "stdout",
          "output_type": "stream",
          "text": [
            "Requirement already satisfied: opencv-python in c:\\users\\helen\\anaconda3\\envs\\engr2900\\lib\\site-packages (4.9.0.80)\n",
            "Requirement already satisfied: pytesseract in c:\\users\\helen\\anaconda3\\envs\\engr2900\\lib\\site-packages (0.3.10)\n",
            "Requirement already satisfied: numpy>=1.21.2 in c:\\users\\helen\\anaconda3\\envs\\engr2900\\lib\\site-packages (from opencv-python) (1.23.5)\n",
            "Requirement already satisfied: packaging>=21.3 in c:\\users\\helen\\anaconda3\\envs\\engr2900\\lib\\site-packages (from pytesseract) (24.0)\n",
            "Requirement already satisfied: Pillow>=8.0.0 in c:\\users\\helen\\anaconda3\\envs\\engr2900\\lib\\site-packages (from pytesseract) (10.2.0)\n"
          ]
        }
      ],
      "source": [
        "!pip install opencv-python pytesseract\n",
        "\n",
        "import pytesseract\n",
        "pytesseract.pytesseract.tesseract_cmd = r'C:\\Users\\helen\\AppData\\Local\\Programs\\Tesseract-OCR\\tesseract.exe'"
      ]
    },
    {
      "cell_type": "code",
      "execution_count": 27,
      "metadata": {},
      "outputs": [
        {
          "name": "stdout",
          "output_type": "stream",
          "text": [
            "\\Ne Stoet With Good\n",
            "\n",
            "Because all businesses should\n",
            "be sess pera: bs pees\n",
            "\n"
          ]
        }
      ],
      "source": [
        "tesseract_med=pytesseract.image_to_string('med_diary.jpg', lang='eng')\n",
        "print(tesseract_med)"
      ]
    },
    {
      "cell_type": "code",
      "execution_count": 16,
      "metadata": {},
      "outputs": [
        {
          "name": "stdout",
          "output_type": "stream",
          "text": [
            "——\n",
            "\n",
            "Yeod a lor in _ my Ap\n",
            "\\ high G oO\n",
            "\n",
            "\\ ry i\n",
            "dour ead o litte “Gver the Suvnmers\n",
            "Ine, Toss\n",
            "\n",
            "wold, lout Still not\n",
            "Yeed\n",
            "\n",
            "\n"
          ]
        }
      ],
      "source": [
        "tesseract_hard=pytesseract.image_to_string('hard_diary.jpg', lang='eng')\n",
        "print(tesseract_hard)"
      ]
    },
    {
      "cell_type": "markdown",
      "metadata": {},
      "source": [
        "Google Cloud Vision API"
      ]
    },
    {
      "cell_type": "code",
      "execution_count": 2,
      "metadata": {},
      "outputs": [
        {
          "name": "stdout",
          "output_type": "stream",
          "text": [
            "Collecting google-cloud-vision\n",
            "  Downloading google_cloud_vision-3.7.2-py2.py3-none-any.whl.metadata (5.2 kB)\n",
            "Collecting google-api-core!=2.0.*,!=2.1.*,!=2.10.*,!=2.2.*,!=2.3.*,!=2.4.*,!=2.5.*,!=2.6.*,!=2.7.*,!=2.8.*,!=2.9.*,<3.0.0dev,>=1.34.1 (from google-api-core[grpc]!=2.0.*,!=2.1.*,!=2.10.*,!=2.2.*,!=2.3.*,!=2.4.*,!=2.5.*,!=2.6.*,!=2.7.*,!=2.8.*,!=2.9.*,<3.0.0dev,>=1.34.1->google-cloud-vision)\n",
            "  Downloading google_api_core-2.18.0-py3-none-any.whl.metadata (2.7 kB)\n",
            "Requirement already satisfied: google-auth!=2.24.0,!=2.25.0,<3.0.0dev,>=2.14.1 in c:\\users\\helen\\anaconda3\\envs\\engr2900\\lib\\site-packages (from google-cloud-vision) (2.29.0)\n",
            "Collecting proto-plus<2.0.0dev,>=1.22.3 (from google-cloud-vision)\n",
            "  Downloading proto_plus-1.23.0-py3-none-any.whl.metadata (2.2 kB)\n",
            "Requirement already satisfied: protobuf!=3.20.0,!=3.20.1,!=4.21.0,!=4.21.1,!=4.21.2,!=4.21.3,!=4.21.4,!=4.21.5,<5.0.0dev,>=3.19.5 in c:\\users\\helen\\anaconda3\\envs\\engr2900\\lib\\site-packages (from google-cloud-vision) (3.19.6)\n",
            "Collecting googleapis-common-protos<2.0.dev0,>=1.56.2 (from google-api-core!=2.0.*,!=2.1.*,!=2.10.*,!=2.2.*,!=2.3.*,!=2.4.*,!=2.5.*,!=2.6.*,!=2.7.*,!=2.8.*,!=2.9.*,<3.0.0dev,>=1.34.1->google-api-core[grpc]!=2.0.*,!=2.1.*,!=2.10.*,!=2.2.*,!=2.3.*,!=2.4.*,!=2.5.*,!=2.6.*,!=2.7.*,!=2.8.*,!=2.9.*,<3.0.0dev,>=1.34.1->google-cloud-vision)\n",
            "  Downloading googleapis_common_protos-1.63.0-py2.py3-none-any.whl.metadata (1.5 kB)\n",
            "Requirement already satisfied: requests<3.0.0.dev0,>=2.18.0 in c:\\users\\helen\\anaconda3\\envs\\engr2900\\lib\\site-packages (from google-api-core!=2.0.*,!=2.1.*,!=2.10.*,!=2.2.*,!=2.3.*,!=2.4.*,!=2.5.*,!=2.6.*,!=2.7.*,!=2.8.*,!=2.9.*,<3.0.0dev,>=1.34.1->google-api-core[grpc]!=2.0.*,!=2.1.*,!=2.10.*,!=2.2.*,!=2.3.*,!=2.4.*,!=2.5.*,!=2.6.*,!=2.7.*,!=2.8.*,!=2.9.*,<3.0.0dev,>=1.34.1->google-cloud-vision) (2.28.2)\n",
            "Requirement already satisfied: grpcio<2.0dev,>=1.33.2 in c:\\users\\helen\\anaconda3\\envs\\engr2900\\lib\\site-packages (from google-api-core[grpc]!=2.0.*,!=2.1.*,!=2.10.*,!=2.2.*,!=2.3.*,!=2.4.*,!=2.5.*,!=2.6.*,!=2.7.*,!=2.8.*,!=2.9.*,<3.0.0dev,>=1.34.1->google-cloud-vision) (1.62.1)\n",
            "Collecting grpcio-status<2.0.dev0,>=1.33.2 (from google-api-core[grpc]!=2.0.*,!=2.1.*,!=2.10.*,!=2.2.*,!=2.3.*,!=2.4.*,!=2.5.*,!=2.6.*,!=2.7.*,!=2.8.*,!=2.9.*,<3.0.0dev,>=1.34.1->google-cloud-vision)\n",
            "  Downloading grpcio_status-1.62.2-py3-none-any.whl.metadata (1.3 kB)\n",
            "Requirement already satisfied: cachetools<6.0,>=2.0.0 in c:\\users\\helen\\anaconda3\\envs\\engr2900\\lib\\site-packages (from google-auth!=2.24.0,!=2.25.0,<3.0.0dev,>=2.14.1->google-cloud-vision) (5.3.3)\n",
            "Requirement already satisfied: pyasn1-modules>=0.2.1 in c:\\users\\helen\\anaconda3\\envs\\engr2900\\lib\\site-packages (from google-auth!=2.24.0,!=2.25.0,<3.0.0dev,>=2.14.1->google-cloud-vision) (0.4.0)\n",
            "Requirement already satisfied: rsa<5,>=3.1.4 in c:\\users\\helen\\anaconda3\\envs\\engr2900\\lib\\site-packages (from google-auth!=2.24.0,!=2.25.0,<3.0.0dev,>=2.14.1->google-cloud-vision) (4.9)\n",
            "Collecting protobuf!=3.20.0,!=3.20.1,!=4.21.0,!=4.21.1,!=4.21.2,!=4.21.3,!=4.21.4,!=4.21.5,<5.0.0dev,>=3.19.5 (from google-cloud-vision)\n",
            "  Using cached protobuf-4.25.3-cp310-abi3-win_amd64.whl.metadata (541 bytes)\n",
            "Collecting grpcio<2.0dev,>=1.33.2 (from google-api-core[grpc]!=2.0.*,!=2.1.*,!=2.10.*,!=2.2.*,!=2.3.*,!=2.4.*,!=2.5.*,!=2.6.*,!=2.7.*,!=2.8.*,!=2.9.*,<3.0.0dev,>=1.34.1->google-cloud-vision)\n",
            "  Downloading grpcio-1.62.2-cp310-cp310-win_amd64.whl.metadata (4.2 kB)\n",
            "Requirement already satisfied: pyasn1<0.7.0,>=0.4.6 in c:\\users\\helen\\anaconda3\\envs\\engr2900\\lib\\site-packages (from pyasn1-modules>=0.2.1->google-auth!=2.24.0,!=2.25.0,<3.0.0dev,>=2.14.1->google-cloud-vision) (0.6.0)\n",
            "Requirement already satisfied: charset-normalizer<4,>=2 in c:\\users\\helen\\anaconda3\\envs\\engr2900\\lib\\site-packages (from requests<3.0.0.dev0,>=2.18.0->google-api-core!=2.0.*,!=2.1.*,!=2.10.*,!=2.2.*,!=2.3.*,!=2.4.*,!=2.5.*,!=2.6.*,!=2.7.*,!=2.8.*,!=2.9.*,<3.0.0dev,>=1.34.1->google-api-core[grpc]!=2.0.*,!=2.1.*,!=2.10.*,!=2.2.*,!=2.3.*,!=2.4.*,!=2.5.*,!=2.6.*,!=2.7.*,!=2.8.*,!=2.9.*,<3.0.0dev,>=1.34.1->google-cloud-vision) (2.0.4)\n",
            "Requirement already satisfied: idna<4,>=2.5 in c:\\users\\helen\\anaconda3\\envs\\engr2900\\lib\\site-packages (from requests<3.0.0.dev0,>=2.18.0->google-api-core!=2.0.*,!=2.1.*,!=2.10.*,!=2.2.*,!=2.3.*,!=2.4.*,!=2.5.*,!=2.6.*,!=2.7.*,!=2.8.*,!=2.9.*,<3.0.0dev,>=1.34.1->google-api-core[grpc]!=2.0.*,!=2.1.*,!=2.10.*,!=2.2.*,!=2.3.*,!=2.4.*,!=2.5.*,!=2.6.*,!=2.7.*,!=2.8.*,!=2.9.*,<3.0.0dev,>=1.34.1->google-cloud-vision) (3.4)\n",
            "Requirement already satisfied: urllib3<1.27,>=1.21.1 in c:\\users\\helen\\anaconda3\\envs\\engr2900\\lib\\site-packages (from requests<3.0.0.dev0,>=2.18.0->google-api-core!=2.0.*,!=2.1.*,!=2.10.*,!=2.2.*,!=2.3.*,!=2.4.*,!=2.5.*,!=2.6.*,!=2.7.*,!=2.8.*,!=2.9.*,<3.0.0dev,>=1.34.1->google-api-core[grpc]!=2.0.*,!=2.1.*,!=2.10.*,!=2.2.*,!=2.3.*,!=2.4.*,!=2.5.*,!=2.6.*,!=2.7.*,!=2.8.*,!=2.9.*,<3.0.0dev,>=1.34.1->google-cloud-vision) (1.26.18)\n",
            "Requirement already satisfied: certifi>=2017.4.17 in c:\\users\\helen\\anaconda3\\envs\\engr2900\\lib\\site-packages (from requests<3.0.0.dev0,>=2.18.0->google-api-core!=2.0.*,!=2.1.*,!=2.10.*,!=2.2.*,!=2.3.*,!=2.4.*,!=2.5.*,!=2.6.*,!=2.7.*,!=2.8.*,!=2.9.*,<3.0.0dev,>=1.34.1->google-api-core[grpc]!=2.0.*,!=2.1.*,!=2.10.*,!=2.2.*,!=2.3.*,!=2.4.*,!=2.5.*,!=2.6.*,!=2.7.*,!=2.8.*,!=2.9.*,<3.0.0dev,>=1.34.1->google-cloud-vision) (2024.2.2)\n",
            "Downloading google_cloud_vision-3.7.2-py2.py3-none-any.whl (459 kB)\n",
            "   ---------------------------------------- 0.0/459.6 kB ? eta -:--:--\n",
            "   ---------- ----------------------------- 122.9/459.6 kB 3.6 MB/s eta 0:00:01\n",
            "   ------------------------------------ --- 419.8/459.6 kB 5.3 MB/s eta 0:00:01\n",
            "   ---------------------------------------- 459.6/459.6 kB 5.8 MB/s eta 0:00:00\n",
            "Downloading google_api_core-2.18.0-py3-none-any.whl (138 kB)\n",
            "   ---------------------------------------- 0.0/138.3 kB ? eta -:--:--\n",
            "   ---------------------------------------- 138.3/138.3 kB 8.5 MB/s eta 0:00:00\n",
            "Downloading proto_plus-1.23.0-py3-none-any.whl (48 kB)\n",
            "   ---------------------------------------- 0.0/48.8 kB ? eta -:--:--\n",
            "   ---------------------------------------- 48.8/48.8 kB ? eta 0:00:00\n",
            "Downloading googleapis_common_protos-1.63.0-py2.py3-none-any.whl (229 kB)\n",
            "   ---------------------------------------- 0.0/229.1 kB ? eta -:--:--\n",
            "   ---------------------------------------- 229.1/229.1 kB 7.1 MB/s eta 0:00:00\n",
            "Downloading grpcio_status-1.62.2-py3-none-any.whl (14 kB)\n",
            "Using cached protobuf-4.25.3-cp310-abi3-win_amd64.whl (413 kB)\n",
            "Downloading grpcio-1.62.2-cp310-cp310-win_amd64.whl (3.8 MB)\n",
            "   ---------------------------------------- 0.0/3.8 MB ? eta -:--:--\n",
            "   ------ --------------------------------- 0.7/3.8 MB 13.7 MB/s eta 0:00:01\n",
            "   ---------------- ----------------------- 1.5/3.8 MB 16.0 MB/s eta 0:00:01\n",
            "   ------------------------ --------------- 2.3/3.8 MB 16.6 MB/s eta 0:00:01\n",
            "   ------------------------------- -------- 2.9/3.8 MB 18.8 MB/s eta 0:00:01\n",
            "   --------------------------------- ------ 3.1/3.8 MB 14.2 MB/s eta 0:00:01\n",
            "   ------------------------------------- -- 3.5/3.8 MB 14.0 MB/s eta 0:00:01\n",
            "   ---------------------------------------- 3.8/3.8 MB 13.4 MB/s eta 0:00:00\n",
            "Installing collected packages: protobuf, grpcio, proto-plus, googleapis-common-protos, grpcio-status, google-api-core, google-cloud-vision\n",
            "  Attempting uninstall: protobuf\n",
            "    Found existing installation: protobuf 3.19.6\n",
            "    Uninstalling protobuf-3.19.6:\n",
            "      Successfully uninstalled protobuf-3.19.6\n",
            "  Attempting uninstall: grpcio\n",
            "    Found existing installation: grpcio 1.62.1\n",
            "    Uninstalling grpcio-1.62.1:\n",
            "      Successfully uninstalled grpcio-1.62.1\n",
            "Successfully installed google-api-core-2.18.0 google-cloud-vision-3.7.2 googleapis-common-protos-1.63.0 grpcio-1.62.2 grpcio-status-1.62.2 proto-plus-1.23.0 protobuf-4.25.3\n"
          ]
        },
        {
          "name": "stderr",
          "output_type": "stream",
          "text": [
            "ERROR: pip's dependency resolver does not currently take into account all the packages that are installed. This behaviour is the source of the following dependency conflicts.\n",
            "coremltools 6.3.0 requires protobuf<=4.0.0,>=3.1.0, but you have protobuf 4.25.3 which is incompatible.\n",
            "tensorboard 2.10.1 requires protobuf<3.20,>=3.9.2, but you have protobuf 4.25.3 which is incompatible.\n",
            "tensorflow 2.10.0 requires protobuf<3.20,>=3.9.2, but you have protobuf 4.25.3 which is incompatible.\n"
          ]
        }
      ],
      "source": [
        "!pip install google-cloud-vision"
      ]
    },
    {
      "cell_type": "code",
      "execution_count": 4,
      "metadata": {},
      "outputs": [],
      "source": [
        "import os\n",
        "from google.cloud import vision\n",
        "from google.cloud.vision_v1 import types\n",
        "\n",
        "os.environ['GOOGLE_APPLICATION_CREDENTIALS'] = 'google-vision-credentials.json'\n",
        "client = vision.ImageAnnotatorClient()\n"
      ]
    },
    {
      "cell_type": "code",
      "execution_count": 23,
      "metadata": {},
      "outputs": [
        {
          "name": "stdout",
          "output_type": "stream",
          "text": [
            "We Start With Good\n",
            "Because all businesses should\n",
            "be doing something good.\n"
          ]
        }
      ],
      "source": [
        "with open('med_diary.jpg', 'rb') as image_file:\n",
        "    content = image_file.read()\n",
        "\n",
        "image = types.Image(content=content)\n",
        "\n",
        "response = client.text_detection(image=image)\n",
        "text_annotations = response.text_annotations\n",
        "google_med = text_annotations[0].description if text_annotations else \"\"\n",
        "\n",
        "print(google_med)"
      ]
    },
    {
      "cell_type": "code",
      "execution_count": 24,
      "metadata": {},
      "outputs": [
        {
          "name": "stdout",
          "output_type": "stream",
          "text": [
            "I had to read a lot in my Ap\n",
            "English classes in high school, so\n",
            "much so that I thought I didn't\n",
            "have time to waste on reading for\n",
            "pleasure. So I stopped reading. I\n",
            "would read a little over the summers\n",
            "while I was working, but still not\n",
            "as much. Then I read a book my\n",
            "grandma suggested called The\n",
            "Shining by Stephen King. I loved\n",
            "the movie, so I figured I'd give the\n",
            "book a try. The book was so scary\n",
            "and thrilling, even more so than\n",
            "the movie. Then I started to read\n",
            "more books that I'd seen the\n",
            "movies for. I'm one of those\n",
            "weirdos who loves to watch the\n",
            "movie before I read the book. It\n",
            "helps me to imagine the people and\n",
            "places better High school was when\n",
            "I found that I could escape to\n",
            "the worlds in books. It was when\n",
            "I discovered everything they had to\n",
            "offer\n"
          ]
        }
      ],
      "source": [
        "with open('hard_diary.jpg', 'rb') as image_file:\n",
        "    content = image_file.read()\n",
        "\n",
        "image = types.Image(content=content)\n",
        "\n",
        "response = client.text_detection(image=image)\n",
        "text_annotations = response.text_annotations\n",
        "google_hard = text_annotations[0].description if text_annotations else \"\"\n",
        "\n",
        "print(google_hard)"
      ]
    },
    {
      "cell_type": "markdown",
      "metadata": {},
      "source": [
        "Evaluation"
      ]
    },
    {
      "cell_type": "code",
      "execution_count": 13,
      "metadata": {
        "id": "igFgk-APRveJ"
      },
      "outputs": [
        {
          "name": "stdout",
          "output_type": "stream",
          "text": [
            "Requirement already satisfied: python-Levenshtein in c:\\users\\helen\\anaconda3\\envs\\engr2900\\lib\\site-packages (0.25.1)\n",
            "Requirement already satisfied: Levenshtein==0.25.1 in c:\\users\\helen\\anaconda3\\envs\\engr2900\\lib\\site-packages (from python-Levenshtein) (0.25.1)\n",
            "Requirement already satisfied: rapidfuzz<4.0.0,>=3.8.0 in c:\\users\\helen\\anaconda3\\envs\\engr2900\\lib\\site-packages (from Levenshtein==0.25.1->python-Levenshtein) (3.8.1)\n"
          ]
        }
      ],
      "source": [
        "!pip install python-Levenshtein\n",
        "\n",
        "import matplotlib.pyplot as plt\n",
        "import Levenshtein"
      ]
    },
    {
      "cell_type": "code",
      "execution_count": 29,
      "metadata": {},
      "outputs": [
        {
          "data": {
            "image/png": "[encoded data removed]",
            "text/plain": [
              "<Figure size 640x480 with 1 Axes>"
            ]
          },
          "metadata": {},
          "output_type": "display_data"
        }
      ],
      "source": [
        "# Medium: Few, spaced-out lines of clear handwriting\n",
        "\n",
        "med_ground_truth = \"We Start With Good\\nBecause all businesses should be doing something good.\"\n",
        "med_levenshtein_distance_tesseract = Levenshtein.distance(med_ground_truth, tesseract_med)\n",
        "med_levenshtein_distance_mmocr = Levenshtein.distance(med_ground_truth, mmocr_med)\n",
        "med_levenshtein_distance_google = Levenshtein.distance(med_ground_truth, google_med)\n",
        "\n",
        "\n",
        "models = ['Tesseract', 'MMOCR', 'Google Cloud Vision']\n",
        "med_distances = [med_levenshtein_distance_tesseract, med_levenshtein_distance_mmocr, med_levenshtein_distance_google]\n",
        "\n",
        "plt.bar(models, med_distances, color=['blue', 'green', 'red'])\n",
        "plt.xlabel('OCR Models')\n",
        "plt.ylabel('Levenshtein Distance')\n",
        "plt.title('Model Performance on Medium Text')\n",
        "plt.show()"
      ]
    },
    {
      "cell_type": "code",
      "execution_count": 21,
      "metadata": {},
      "outputs": [
        {
          "data": {
            "image/png": "[encoded data removed]",
            "text/plain": [
              "<Figure size 640x480 with 1 Axes>"
            ]
          },
          "metadata": {},
          "output_type": "display_data"
        }
      ],
      "source": [
        "# Hard: Many, dense lines of clear handwriting\n",
        "\n",
        "hard_ground_truth = \"I had to read a lot in my AP English classes in high school, so much so that I thought I didn't have time to waste of reading for pleasure, so I stopped reading. I would read a little over the summers while I was working but still not as much. Then I read a book my grandma suggested called The Shining by Stephen King. I loved the movie, so I figured I'd give the book a try. The book was so scary and thrilling even more so than the movie. Then I started to read more books that I'd seen the movies for. I'm one of those weirdos who loves to watch the movie before I read the book. It helps me to imagine the people and places better. High school was when I found that I could escape to the worlds in books. It was when I discovered everything they had to offer.\"\n",
        "hard_levenshtein_distance_tesseract = Levenshtein.distance(hard_ground_truth, tesseract_hard)\n",
        "hard_levenshtein_distance_mmocr = Levenshtein.distance(hard_ground_truth, mmocr_hard)\n",
        "hard_levenshtein_distance_google = Levenshtein.distance(hard_ground_truth, google_hard)\n",
        "\n",
        "models = ['Tesseract', 'MMOCR', 'Google Cloud Vision']\n",
        "hard_distances = [hard_levenshtein_distance_tesseract, hard_levenshtein_distance_mmocr, hard_levenshtein_distance_google]\n",
        "\n",
        "plt.bar(models, hard_distances, color=['blue', 'green', 'red'])\n",
        "plt.xlabel('OCR Models')\n",
        "plt.ylabel('Levenshtein Distance')\n",
        "plt.title('Model Performance on Hard Text')\n",
        "plt.show()"
      ]
    }
  ],
  "metadata": {
    "colab": {
      "provenance": []
    },
    "kernelspec": {
      "display_name": "Python 3",
      "name": "python3"
    },
    "language_info": {
      "codemirror_mode": {
        "name": "ipython",
        "version": 3
      },
      "file_extension": ".py",
      "mimetype": "text/x-python",
      "name": "python",
      "nbconvert_exporter": "python",
      "pygments_lexer": "ipython3",
      "version": "3.10.14"
    }
  },
  "nbformat": 4,
  "nbformat_minor": 0
}
